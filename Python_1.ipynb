{
  "nbformat": 4,
  "nbformat_minor": 0,
  "metadata": {
    "colab": {
      "name": "Python_1.ipynb",
      "provenance": [],
      "collapsed_sections": [
        "z9oEqxGvtGjP",
        "DMJ4QoiRwuUC"
      ],
      "authorship_tag": "ABX9TyML3JHVvRzp3eQQ4ajrsX6P",
      "include_colab_link": true
    },
    "kernelspec": {
      "name": "python3",
      "display_name": "Python 3"
    },
    "language_info": {
      "name": "python"
    }
  },
  "cells": [
    {
      "cell_type": "markdown",
      "metadata": {
        "id": "view-in-github",
        "colab_type": "text"
      },
      "source": [
        "<a href=\"https://colab.research.google.com/github/adamstra/AppDeploiment/blob/master/Python_1.ipynb\" target=\"_parent\"><img src=\"https://colab.research.google.com/assets/colab-badge.svg\" alt=\"Open In Colab\"/></a>"
      ]
    },
    {
      "cell_type": "markdown",
      "source": [
        "![image.png](data:image/png;base64,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)"
      ],
      "metadata": {
        "id": "Tlm9i85yd1_6"
      }
    },
    {
      "cell_type": "markdown",
      "source": [
        "# Qu'est-ce que Python ?\n",
        "\n",
        "Python est un langage de programmation populaire. Il a été créé par Guido van Rossum et sorti en 1991.\n",
        "\n",
        "Son objectif était de créer un langage informatique simple et intuitif, puissant et utilisant une syntaxe informatique aussi compréhensible qu'un texte en anglais.\n",
        "\n",
        "# Que peut faire Python ?\n",
        "\n",
        "- Python peut être utilisé sur un serveur pour créer des applications Web.\n",
        "- Python peut être utilisé avec des logiciels pour créer des flux de travail.\n",
        "- Python peut se connecter aux systèmes de base de données. Il peut également lire et modifier des fichiers. \n",
        "- Python peut être utilisé pour gérer des données volumineuses et effectuer des mathématiques complexes. \n",
        "- Python peut être utilisé pour le developpement de jeu video\n",
        "\n"
      ],
      "metadata": {
        "id": "DdpXHcFkdSTu"
      }
    },
    {
      "cell_type": "code",
      "execution_count": null,
      "metadata": {
        "id": "cAbj3vu0ant7"
      },
      "outputs": [],
      "source": [
        ""
      ]
    },
    {
      "cell_type": "markdown",
      "source": [
        "# Installer python sous windows\n",
        "\n",
        "Lien : https://www.python.org/downloads/"
      ],
      "metadata": {
        "id": "oHfxzDYLzXdx"
      }
    },
    {
      "cell_type": "markdown",
      "source": [
        "## Google Colab\n",
        "\n",
        "Colab permet à n'importe qui d'écrire et d'exécuter le code Python de son choix par le biais du navigateur. C'est un environnement particulièrement adapté au machine learning, à l'analyse de données et à l'éducation.\n",
        "\n",
        "https://colab.research.google.com/"
      ],
      "metadata": {
        "id": "z9oEqxGvtGjP"
      }
    },
    {
      "cell_type": "code",
      "source": [
        ""
      ],
      "metadata": {
        "id": "epIYyLPq0zf6"
      },
      "execution_count": null,
      "outputs": []
    },
    {
      "cell_type": "markdown",
      "source": [
        "# Variable\n",
        "\n",
        "Une variable est un symbole dans lequel il est possible de stocker une valeur. L'affectation de variable est l'action de stocker une valeur dans une variable. Pour définir le nom d'une variable en Python, vous pouvez utiliser des lettres, minuscules ou majuscules, et des chiffres.\n",
        "\n",
        "Python est un language à typage dynamique, ce qui signifie qu’il n’est pas nécessaire de déclarer les variables avant de pouvoir leur affecter une valeur. La valeur que l’on affecte possède un type qui dépend de la nature des données (nombre entier, nombre à virgule, chaîne de caractères, etc)."
      ],
      "metadata": {
        "id": "1fm-tLP7040Q"
      }
    },
    {
      "cell_type": "code",
      "source": [
        "# Example de variable\n",
        "prenom = \"adama\"\n",
        "age = 25\n",
        "taille = 1.90\n",
        "celibataire = True"
      ],
      "metadata": {
        "id": "OUulBYVk09Fm"
      },
      "execution_count": null,
      "outputs": []
    },
    {
      "cell_type": "code",
      "source": [
        "print(prenom)\n",
        "print(age)\n",
        "print(taille)\n",
        "print(celibataire)"
      ],
      "metadata": {
        "id": "hs7lmjg42FGj",
        "colab": {
          "base_uri": "https://localhost:8080/"
        },
        "outputId": "7afe5eeb-46a6-4fdd-85fa-a41ba31bd1fe"
      },
      "execution_count": null,
      "outputs": [
        {
          "output_type": "stream",
          "name": "stdout",
          "text": [
            "adama\n",
            "25\n",
            "1.9\n",
            "True\n"
          ]
        }
      ]
    },
    {
      "cell_type": "code",
      "source": [
        "print(type(prenom))\n",
        "print(type(age))\n",
        "print(type(taille))\n",
        "print(type(celibataire))"
      ],
      "metadata": {
        "id": "WYYCPGSD3D96",
        "colab": {
          "base_uri": "https://localhost:8080/"
        },
        "outputId": "2e24dcab-7931-400d-f583-42cf7d8a12b9"
      },
      "execution_count": null,
      "outputs": [
        {
          "output_type": "stream",
          "name": "stdout",
          "text": [
            "<class 'str'>\n",
            "<class 'int'>\n",
            "<class 'float'>\n",
            "<class 'bool'>\n"
          ]
        }
      ]
    },
    {
      "cell_type": "markdown",
      "source": [
        "## Structures de données\n",
        "\n",
        "Les structures de données sont des moyens spécifiques d'organiser et de stocker des données afin qu'elles puissent être consultées et travaillées de manière efficace. Les structures de données définissent la relation entre les données et les opérations pouvant être effectuées dessus.\n"
      ],
      "metadata": {
        "id": "9A2PoyKfdzHs"
      }
    },
    {
      "cell_type": "code",
      "source": [
        "# Example structures de données\n",
        "liste = [1,2,'adams',True,1.56]\n",
        "tuple1 = (7,5,'adams', False)\n",
        "dictionnaire = { \"Prenom\" : \"Adams\", \"Nom\" : \"Tra\", \"Age\" : 25, \"taille\" : 1.90}"
      ],
      "metadata": {
        "id": "5VvAT9tbdEPu"
      },
      "execution_count": null,
      "outputs": []
    },
    {
      "cell_type": "code",
      "source": [
        "print(liste)\n",
        "print(tuple1)\n",
        "print(dictionnaire)"
      ],
      "metadata": {
        "colab": {
          "base_uri": "https://localhost:8080/"
        },
        "id": "MS2AKISIghtA",
        "outputId": "a982cab4-91b1-4bb9-8dcd-85b23e73aef3"
      },
      "execution_count": null,
      "outputs": [
        {
          "output_type": "stream",
          "name": "stdout",
          "text": [
            "[1, 2, 'adams', True, 1.56]\n",
            "(7, 5, 'adams', False)\n",
            "{'Prenom': 'Adams', 'Nom': 'Tra', 'Age': 25, 'taille': 1.9}\n"
          ]
        }
      ]
    },
    {
      "cell_type": "code",
      "source": [
        "print(type(liste))\n",
        "print(type(tuple1))\n",
        "print(type(dictionnaire))"
      ],
      "metadata": {
        "colab": {
          "base_uri": "https://localhost:8080/"
        },
        "id": "LCjvzrjvgrRw",
        "outputId": "20c581eb-ad82-4cdb-ad01-1ae2d0d4b512"
      },
      "execution_count": null,
      "outputs": [
        {
          "output_type": "stream",
          "name": "stdout",
          "text": [
            "<class 'list'>\n",
            "<class 'tuple'>\n",
            "<class 'dict'>\n"
          ]
        }
      ]
    },
    {
      "cell_type": "markdown",
      "source": [
        "**Application 1 :** \n",
        "\n",
        "Ecrire un programme qui saisit 2 entiers et affiche successivement la somme, la différence, le\n",
        "produit , le quotient et le modulo de ces 2 entiers.\n",
        "\n",
        "**Opérateurs mathématiques**\n",
        "\n",
        "Symbole |  Operation\n",
        "--------|---------\n",
        "   +    |  Addition\n",
        "   -    |  Soustraction\n",
        "   *    |  Multiplication\t\n",
        "   /    |  Division\n",
        "   %    |  Modulo\n",
        "   //   |  Division entière\n",
        "   **   | Puissance"
      ],
      "metadata": {
        "id": "cL1aLTIr-vOS"
      }
    },
    {
      "cell_type": "code",
      "source": [
        "a = int(input(\"Donner la valeur de a : \"))\n",
        "b = int(input(\"Donner la valeur de b : \"))\n",
        "\n",
        "\n",
        "somme = a + b\n",
        "diff = a - b\n",
        "produit = a * b\n",
        "quotient = a / b\n",
        "modulo = a % b"
      ],
      "metadata": {
        "colab": {
          "base_uri": "https://localhost:8080/"
        },
        "id": "7otg6RrLU7gD",
        "outputId": "1c352acc-9f28-4420-f563-a2656b1d13c3"
      },
      "execution_count": null,
      "outputs": [
        {
          "name": "stdout",
          "output_type": "stream",
          "text": [
            "Donner la valeur de a : 5\n",
            "Donner la valeur de b : 2\n"
          ]
        }
      ]
    },
    {
      "cell_type": "code",
      "source": [
        "print(type(a))\n",
        "print(type(b))"
      ],
      "metadata": {
        "colab": {
          "base_uri": "https://localhost:8080/"
        },
        "id": "h5bQvfdbowW-",
        "outputId": "774ed4c5-f9e1-4b07-b038-ae188ab5acfa"
      },
      "execution_count": null,
      "outputs": [
        {
          "output_type": "stream",
          "name": "stdout",
          "text": [
            "<class 'int'>\n",
            "<class 'int'>\n"
          ]
        }
      ]
    },
    {
      "cell_type": "code",
      "source": [
        "print(\"La somme de {} + {} = {}\".format(a,b,somme))\n",
        "# print(\"La difference de \",a, \"-\",b, \"=\",diff)\n",
        "print(\"La difference de {} - {} = {}\".format(a,b,diff))\n",
        "print(\"Le produit de {} * {} = {}\".format(a,b,produit))\n",
        "print(\"Le quotient de {} / {} = {}\".format(a,b,quotient))\n",
        "print(\"Le modulo de {} % {} = {}\".format(a,b,modulo))"
      ],
      "metadata": {
        "colab": {
          "base_uri": "https://localhost:8080/"
        },
        "id": "brpKgGOMl5kE",
        "outputId": "3cff58bd-ddab-48d8-ccfe-f094b9baba06"
      },
      "execution_count": null,
      "outputs": [
        {
          "output_type": "stream",
          "name": "stdout",
          "text": [
            "La somme de 5 + 2 = 7\n",
            "La difference de 5 - 2 = 3\n",
            "Le produit de 5 * 2 = 10\n",
            "Le quotient de 5 / 2 = 2.5\n",
            "Le modulo de 5 % 2 = 1\n"
          ]
        }
      ]
    },
    {
      "cell_type": "markdown",
      "source": [
        "**Application 2 :**\n",
        "\n",
        "Ecrire un programme qui demande à l’utilisateur de donner le rayon d’un cercle et lui\n",
        "retourne sa surface et son périmètre.\n",
        "\n",
        "``` \n",
        "Formule:\n",
        "  Perimetre = 2 × π × Rayon\n",
        "  Surface =  π × Rayon*2\n"
      ],
      "metadata": {
        "id": "9Hs6rwAXi-bc"
      }
    },
    {
      "cell_type": "code",
      "source": [
        "rayon = int(input(\"Le rayon : \"))\n",
        "pi = 3.14\n",
        "\n",
        "surface = pi * rayon**2\n",
        "perimetre = 2*pi*rayon\n",
        "\n",
        "print(\"La surface est de : \", surface)\n",
        "print(\"Le perimetre est de : \", perimetre)"
      ],
      "metadata": {
        "colab": {
          "base_uri": "https://localhost:8080/"
        },
        "id": "7qyJ7NWtU61F",
        "outputId": "d044e473-9aa5-4f7e-c3f2-1e86dfcc9c20"
      },
      "execution_count": null,
      "outputs": [
        {
          "output_type": "stream",
          "name": "stdout",
          "text": [
            "Le rayon : 3\n",
            "La surface est de :  28.26\n",
            "Le perimetre est de :  18.84\n"
          ]
        }
      ]
    },
    {
      "cell_type": "markdown",
      "source": [
        "# Structure conditionnelle\n",
        "\n",
        "On appelle structure conditionnelle les instructions qui permettent de tester si une condition est vraie ou non.\n",
        "\n",
        "1. Le test if .... else.\n",
        "\n",
        "L’instruction if est la structure de test la plus basique. Elle permet d’exécuter une série d’instructions si une condition\n",
        "est vraie.\n",
        "L’instruction else (sinon) permet de programmer une éxecution alternative lorsque la condition suivant if n’est pas\n",
        "réalisée. \n",
        "La syntaxe de cette expression est la suivante :\n",
        "\n",
        "                        if condition:\n",
        "                            bloc d'instructions\n",
        "                        else :\n",
        "                            bloc d'instructions\n",
        "\n"
      ],
      "metadata": {
        "id": "DMJ4QoiRwuUC"
      }
    },
    {
      "cell_type": "code",
      "source": [
        "# Example\n",
        "a = 1\n",
        "if a > 0:\n",
        "  print('a est positive 🙃')\n",
        "else:\n",
        "  print('a est tout sauf positive 😁')"
      ],
      "metadata": {
        "colab": {
          "base_uri": "https://localhost:8080/"
        },
        "id": "doRWOCmm3be0",
        "outputId": "261e56d0-1941-46f7-971f-56284a70ccc5"
      },
      "execution_count": null,
      "outputs": [
        {
          "output_type": "stream",
          "name": "stdout",
          "text": [
            "a est positive 🙃\n"
          ]
        }
      ]
    },
    {
      "cell_type": "markdown",
      "source": [
        "## Les opérateurs de comparaison\n",
        "\n",
        "- Égal à : a == b \n",
        "- Pas égal à : a != b \n",
        "- Inférieur à : a < b \n",
        "- Inférieur ou égal à : a <= b \n",
        "- Supérieur à : a > b \n",
        "- Supérieur ou égal à : a >= b\n"
      ],
      "metadata": {
        "id": "Er5JMTJOeikM"
      }
    },
    {
      "cell_type": "markdown",
      "source": [
        "**Application 1**. \n",
        "\n",
        "Réaliser un programme qui teste si une variable a (de type entier) est un nombre pair et affiche.\n"
      ],
      "metadata": {
        "id": "clexusuxyjqB"
      }
    },
    {
      "cell_type": "code",
      "source": [
        "entier = int(input(\"Donner une valeur positive :\"))\n",
        "\n",
        "if entier % 2 == 0:\n",
        "  print(\"Pair\")\n",
        "else:\n",
        "  print(\"Impair\")"
      ],
      "metadata": {
        "colab": {
          "base_uri": "https://localhost:8080/"
        },
        "id": "DIZ3KsnbVoBr",
        "outputId": "d55d7a62-592e-412e-a683-6dad149ff657"
      },
      "execution_count": null,
      "outputs": [
        {
          "output_type": "stream",
          "name": "stdout",
          "text": [
            "Donner une valeur positive :8\n",
            "Pair\n"
          ]
        }
      ]
    },
    {
      "cell_type": "markdown",
      "source": [
        "## structure conditionnelle avec alternative : if... elif... else\n",
        "\n",
        "L’instruction elif (contraction de else if) permet de définir des conditions alternatives.\n",
        "\n",
        "La structure générale est la suivante :\n",
        "\n",
        "                    if condition:\n",
        "                        bloc d'instructions\n",
        "                    elif condition:\n",
        "                        bloc d'instructions\n",
        "                    ... \n",
        "                    else :\n",
        "                        bloc d'instructions"
      ],
      "metadata": {
        "id": "eYFZLdaXmZBL"
      }
    },
    {
      "cell_type": "code",
      "source": [
        "# Example\n",
        "nbr1 = 4\n",
        "nbr2 = 4\n",
        "if nbr1 > nbr2:\n",
        "  print(nbr1)\n",
        "elif nbr1 < nbr2:\n",
        "  print(nbr2)\n",
        "else:\n",
        "  print(\"ils sont egales\")"
      ],
      "metadata": {
        "id": "g9SoP62LlmLt",
        "colab": {
          "base_uri": "https://localhost:8080/"
        },
        "outputId": "520c47c4-ae0d-4ed7-b0d1-852db36a47bd"
      },
      "execution_count": null,
      "outputs": [
        {
          "output_type": "stream",
          "name": "stdout",
          "text": [
            "ils sont egales\n"
          ]
        }
      ]
    },
    {
      "cell_type": "code",
      "source": [
        ""
      ],
      "metadata": {
        "id": "Cegf_yRUq3Mq"
      },
      "execution_count": null,
      "outputs": []
    },
    {
      "cell_type": "markdown",
      "source": [
        "**Application 2:**\n",
        "\n",
        "Ecrire un programme qui demande a l'utilisateur de saisir son age , si l'age est inferieur ou egale a 10ans il paie 500fr pour entrer au stade.\n",
        "Si l'age est entre 11ans et 17ans il paie 1000fr pour entrer et si l'age est superieur ou egale a 18ans il paie 2000fr"
      ],
      "metadata": {
        "id": "jfllV9JcuRDu"
      }
    },
    {
      "cell_type": "code",
      "source": [
        "age = int(input(\"Donner votre age : \"))\n",
        "\n",
        "if age <= 10:\n",
        "  print(\"500frs\")\n",
        "elif age <= 17:\n",
        "  print(\"1000frs\")\n",
        "elif age >= 18:\n",
        "  print(\"2000frs\")\n",
        "else:\n",
        "  print(\"L'age est invalide\")"
      ],
      "metadata": {
        "id": "BG1HQlgwwRFm",
        "colab": {
          "base_uri": "https://localhost:8080/"
        },
        "outputId": "b32ae633-cb73-4eb0-f471-4bcbf19d866a"
      },
      "execution_count": null,
      "outputs": [
        {
          "output_type": "stream",
          "name": "stdout",
          "text": [
            "Donner votre age : 70\n",
            "2000frs\n"
          ]
        }
      ]
    },
    {
      "cell_type": "code",
      "source": [
        ""
      ],
      "metadata": {
        "id": "oo40YvsqhAZ9"
      },
      "execution_count": null,
      "outputs": []
    }
  ]
}